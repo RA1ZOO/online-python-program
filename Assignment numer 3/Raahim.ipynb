{
 "cells": [
  {
   "cell_type": "code",
   "execution_count": 1,
   "id": "ec97f808",
   "metadata": {},
   "outputs": [
    {
     "name": "stdout",
     "output_type": "stream",
     "text": [
      "*****Task # 1*****\n",
      "Twinkle, twinkle, little star,\n",
      "         How I wonder what you are!\n",
      "                 Up above the world so high,\n",
      "                 Like a diamond in the sky.\n",
      "Twinkle, twinkle, little star,\n",
      "         How I wonder what you are\n"
     ]
    }
   ],
   "source": [
    "print (\"*****Task # 1*****\");\n",
    "print (\"Twinkle, twinkle, little star,\");\n",
    "print (\"         How I wonder what you are!\");\n",
    "print (\"                 Up above the world so high,\");\n",
    "print (\"                 Like a diamond in the sky.\");\n",
    "print (\"Twinkle, twinkle, little star,\");\n",
    "print (\"         How I wonder what you are\");"
   ]
  },
  {
   "cell_type": "code",
   "execution_count": 2,
   "id": "3ea8c471",
   "metadata": {},
   "outputs": [
    {
     "name": "stdout",
     "output_type": "stream",
     "text": [
      "*****Task # 2*****\n",
      "3.8.8\n"
     ]
    }
   ],
   "source": [
    "print (\"*****Task # 2*****\");\n",
    "from platform import python_version;\n",
    "print (python_version());"
   ]
  },
  {
   "cell_type": "code",
   "execution_count": 3,
   "id": "dc5243bc",
   "metadata": {},
   "outputs": [
    {
     "name": "stdout",
     "output_type": "stream",
     "text": [
      "*****Task # 3*****\n",
      "Current date and time :  2021-10-24 03:43:20\n"
     ]
    }
   ],
   "source": [
    "print (\"*****Task # 3*****\");\n",
    "import datetime;\n",
    "DT = datetime.datetime.now();\n",
    "print (\"Current date and time : \", DT.strftime(\"%Y-%m-%d %H:%M:%S\"));"
   ]
  },
  {
   "cell_type": "code",
   "execution_count": 4,
   "id": "1fa03636",
   "metadata": {},
   "outputs": [
    {
     "name": "stdout",
     "output_type": "stream",
     "text": [
      "*****Task # 4*****\n",
      "Enter the radius of the circle: 12\n",
      "formula = Area of Square = π x radius of the circle\n",
      "The area of the circle is: 37.68\n"
     ]
    }
   ],
   "source": [
    "print (\"*****Task # 4*****\");\n",
    "radius = float(input(\"Enter the radius of the circle: \"));\n",
    "pie = 3.14;\n",
    "print(\"formula = Area of Square = π x radius of the circle\")\n",
    "area = radius * pie;\n",
    "print (\"The area of the circle is:\", area);"
   ]
  },
  {
   "cell_type": "code",
   "execution_count": 5,
   "id": "4c1a2ff4",
   "metadata": {},
   "outputs": [
    {
     "name": "stdout",
     "output_type": "stream",
     "text": [
      "*****Task # 5*****\n",
      "Enter your first name: Laiba \n",
      "Enter your last name: Mubarak\n",
      "Your name is: Laiba Mubarak\n",
      "Your name in reverse order with a gap is: Mubarak Laiba \n"
     ]
    }
   ],
   "source": [
    "print (\"*****Task # 5*****\");\n",
    "firstName = input(\"Enter your first name: \");\n",
    "lastName = input(\"Enter your last name: \");\n",
    "name = firstName + lastName;\n",
    "print (\"Your name is: \" + name);\n",
    "print (\"Your name in reverse order with a gap is: \" + lastName + \" \" + firstName);"
   ]
  },
  {
   "cell_type": "code",
   "execution_count": 6,
   "id": "b3b48fad",
   "metadata": {},
   "outputs": [
    {
     "name": "stdout",
     "output_type": "stream",
     "text": [
      "*****Task # 6*****\n",
      "enter first number: 5\n",
      "enter second number: 10\n",
      "The sum is 15\n"
     ]
    }
   ],
   "source": [
    "print (\"*****Task # 6*****\");\n",
    "a = int(input (\"enter first number: \"));\n",
    "b = int(input (\"enter second number: \"));\n",
    "c = a + b;\n",
    "print (\"The sum is\", c);"
   ]
  },
  {
   "cell_type": "code",
   "execution_count": 7,
   "id": "28144458",
   "metadata": {},
   "outputs": [
    {
     "name": "stdout",
     "output_type": "stream",
     "text": [
      "*****Task # 7*****\n",
      "Enter English Marks: 85\n",
      "Enter Islamiat Marks: 98\n",
      "Enter Maths Marks: 95\n",
      "Enter Science Marks: 87\n",
      "Enter Computer Marks: 90\n",
      "**Marks Sheet**\n",
      "English Marks are: 85\n",
      "Islamiat Marks are: 98\n",
      "Maths Marks are: 95\n",
      "Science Marks are: 87\n",
      "Computer Marks are: 90\n",
      "Total Marks are: 500\n",
      "Obtained Marks are: 455\n",
      "Percentage is: 91.0\n",
      "Grade is: A+\n"
     ]
    }
   ],
   "source": [
    "print (\"*****Task # 7*****\");\n",
    "English = int(input(\"Enter English Marks: \"));\n",
    "Islamiat = int(input(\"Enter Islamiat Marks: \"));\n",
    "Maths = int(input(\"Enter Maths Marks: \"));\n",
    "Science = int(input(\"Enter Science Marks: \"));\n",
    "Computer = int(input(\"Enter Computer Marks: \"));\n",
    "Obtained = English + Islamiat + Maths + Science + Computer;\n",
    "Total = 500;\n",
    "percent = (Obtained) * 100 / Total;\n",
    "print (\"**Marks Sheet**\")\n",
    "print (\"English Marks are:\", English);\n",
    "print (\"Islamiat Marks are:\", Islamiat);\n",
    "print (\"Maths Marks are:\", Maths);\n",
    "print (\"Science Marks are:\", Science);\n",
    "print (\"Computer Marks are:\", Computer);\n",
    "print (\"Total Marks are:\", Total);\n",
    "print (\"Obtained Marks are:\", Obtained);\n",
    "print (\"Percentage is:\", percent);\n",
    "if percent < 100 and percent > 80:\n",
    "    print (\"Grade is: A+\");\n",
    "elif percent < 80 and percent > 70:\n",
    "    print (\"Grade is: A\");\n",
    "elif percent < 70 and percent > 60:\n",
    "    print (\"Grade is: B\");\n",
    "elif percent < 60 and percent > 50:\n",
    "    print (\"Grade is: C\");\n",
    "elif percent < 50 and percent > 40:\n",
    "    print (\"Grade is: D\");\n",
    "elif percent < 40 and percent > 33:\n",
    "    print (\"Grade is: E\");\n",
    "elif percent < 0 and percent > 100:\n",
    "    print (\"You did not enter the inappropriate percentage\");\n",
    "else:\n",
    "    print (\"Fail!\");"
   ]
  },
  {
   "cell_type": "code",
   "execution_count": 8,
   "id": "c50eac51",
   "metadata": {},
   "outputs": [
    {
     "name": "stdout",
     "output_type": "stream",
     "text": [
      "*****Task # 8*****\n",
      "Enter any number: 16\n",
      "This is an even number\n"
     ]
    }
   ],
   "source": [
    "print (\"*****Task # 8*****\");\n",
    "a = int(input(\"Enter any number: \"));\n",
    "if a % 2:\n",
    "    print(\"This is an odd number\");\n",
    "else:\n",
    "    print(\"This is an even number\");"
   ]
  },
  {
   "cell_type": "code",
   "execution_count": 9,
   "id": "8ac5211a",
   "metadata": {},
   "outputs": [
    {
     "name": "stdout",
     "output_type": "stream",
     "text": [
      "*****Task # 9*****\n",
      "The length of the list is =  7\n"
     ]
    }
   ],
   "source": [
    "print (\"*****Task # 9*****\");\n",
    "List = [\"Ali\", 12 , \"khan\", 14.5, \"Everything is good\", 98, 55.5];\n",
    "print (\"The length of the list is = \", len(List));"
   ]
  },
  {
   "cell_type": "code",
   "execution_count": 2,
   "id": "4dcf5e5d",
   "metadata": {},
   "outputs": [
    {
     "name": "stdout",
     "output_type": "stream",
     "text": [
      "*****Task # 10*****\n",
      "164\n"
     ]
    }
   ],
   "source": [
    "print (\"*****Task # 10*****\");\n",
    "list = [\"sara\", 12, 45, \"book\", 7, \"good\", 2, 98];\n",
    "sumOfIntegers = 0\n",
    "for val in list:\n",
    "        a = isinstance(val, int);\n",
    "        if isinstance(val, int):\n",
    "            sumOfIntegers += val;\n",
    "print (sumOfIntegers);"
   ]
  },
  {
   "cell_type": "code",
   "execution_count": 11,
   "id": "6cfadbf0",
   "metadata": {},
   "outputs": [
    {
     "name": "stdout",
     "output_type": "stream",
     "text": [
      "*****Task # 11*****\n",
      "The largest number on the list is: 101\n"
     ]
    }
   ],
   "source": [
    "print (\"*****Task # 11*****\");\n",
    "list = [5,88,69,72,97,56,101,53,87]\n",
    "print (\"The largest number on the list is:\", max(list));"
   ]
  },
  {
   "cell_type": "code",
   "execution_count": 12,
   "id": "c3196f01",
   "metadata": {},
   "outputs": [
    {
     "name": "stdout",
     "output_type": "stream",
     "text": [
      "*****Task # 12*****\n",
      "[1, 1, 2, 3]\n"
     ]
    }
   ],
   "source": [
    "print (\"*****Task # 12*****\");\n",
    "a = [1, 1, 2, 3, 5, 8, 13, 21, 34, 55, 89]\n",
    "b = []\n",
    "for i in a:\n",
    "    if i < 5:\n",
    "        b.append(i)\n",
    "print(b);"
   ]
  }
 ],
 "metadata": {
  "kernelspec": {
   "display_name": "Python 3",
   "language": "python",
   "name": "python3"
  },
  "language_info": {
   "codemirror_mode": {
    "name": "ipython",
    "version": 3
   },
   "file_extension": ".py",
   "mimetype": "text/x-python",
   "name": "python",
   "nbconvert_exporter": "python",
   "pygments_lexer": "ipython3",
   "version": "3.8.8"
  }
 },
 "nbformat": 4,
 "nbformat_minor": 5
}
